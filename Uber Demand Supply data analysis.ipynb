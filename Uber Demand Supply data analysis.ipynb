{
 "cells": [
  {
   "cell_type": "markdown",
   "id": "c3f3cde5",
   "metadata": {},
   "source": [
    "# Uber Demand supply gap Analysis"
   ]
  },
  {
   "cell_type": "code",
   "execution_count": 1,
   "id": "9076a35c",
   "metadata": {},
   "outputs": [],
   "source": [
    "#importing different liabraries of python\n",
    "\n",
    "import pandas as pd, numpy as np\n",
    "import matplotlib.pyplot as plt, seaborn as sns\n",
    "%matplotlib inline\n",
    "import warnings\n",
    "warnings.filterwarnings('ignore')\n",
    "import datetime as dt"
   ]
  },
  {
   "cell_type": "code",
   "execution_count": 2,
   "id": "63d17026",
   "metadata": {},
   "outputs": [
    {
     "data": {
      "text/html": [
       "<div>\n",
       "<style scoped>\n",
       "    .dataframe tbody tr th:only-of-type {\n",
       "        vertical-align: middle;\n",
       "    }\n",
       "\n",
       "    .dataframe tbody tr th {\n",
       "        vertical-align: top;\n",
       "    }\n",
       "\n",
       "    .dataframe thead th {\n",
       "        text-align: right;\n",
       "    }\n",
       "</style>\n",
       "<table border=\"1\" class=\"dataframe\">\n",
       "  <thead>\n",
       "    <tr style=\"text-align: right;\">\n",
       "      <th></th>\n",
       "      <th>Request id</th>\n",
       "      <th>Pickup point</th>\n",
       "      <th>Driver id</th>\n",
       "      <th>Status</th>\n",
       "      <th>Request timestamp</th>\n",
       "      <th>Drop timestamp</th>\n",
       "    </tr>\n",
       "  </thead>\n",
       "  <tbody>\n",
       "    <tr>\n",
       "      <th>0</th>\n",
       "      <td>619</td>\n",
       "      <td>Airport</td>\n",
       "      <td>1.0</td>\n",
       "      <td>Trip Completed</td>\n",
       "      <td>11/7/2016 11:51</td>\n",
       "      <td>11/7/2016 13:00</td>\n",
       "    </tr>\n",
       "    <tr>\n",
       "      <th>1</th>\n",
       "      <td>867</td>\n",
       "      <td>Airport</td>\n",
       "      <td>1.0</td>\n",
       "      <td>Trip Completed</td>\n",
       "      <td>11/7/2016 17:57</td>\n",
       "      <td>11/7/2016 18:47</td>\n",
       "    </tr>\n",
       "    <tr>\n",
       "      <th>2</th>\n",
       "      <td>1807</td>\n",
       "      <td>City</td>\n",
       "      <td>1.0</td>\n",
       "      <td>Trip Completed</td>\n",
       "      <td>12/7/2016 9:17</td>\n",
       "      <td>12/7/2016 9:58</td>\n",
       "    </tr>\n",
       "    <tr>\n",
       "      <th>3</th>\n",
       "      <td>2532</td>\n",
       "      <td>Airport</td>\n",
       "      <td>1.0</td>\n",
       "      <td>Trip Completed</td>\n",
       "      <td>12/7/2016 21:08</td>\n",
       "      <td>12/7/2016 22:03</td>\n",
       "    </tr>\n",
       "    <tr>\n",
       "      <th>4</th>\n",
       "      <td>3112</td>\n",
       "      <td>City</td>\n",
       "      <td>1.0</td>\n",
       "      <td>Trip Completed</td>\n",
       "      <td>13-07-2016 08:33:16</td>\n",
       "      <td>13-07-2016 09:25:47</td>\n",
       "    </tr>\n",
       "  </tbody>\n",
       "</table>\n",
       "</div>"
      ],
      "text/plain": [
       "   Request id Pickup point  Driver id          Status    Request timestamp  \\\n",
       "0         619      Airport        1.0  Trip Completed      11/7/2016 11:51   \n",
       "1         867      Airport        1.0  Trip Completed      11/7/2016 17:57   \n",
       "2        1807         City        1.0  Trip Completed       12/7/2016 9:17   \n",
       "3        2532      Airport        1.0  Trip Completed      12/7/2016 21:08   \n",
       "4        3112         City        1.0  Trip Completed  13-07-2016 08:33:16   \n",
       "\n",
       "        Drop timestamp  \n",
       "0      11/7/2016 13:00  \n",
       "1      11/7/2016 18:47  \n",
       "2       12/7/2016 9:58  \n",
       "3      12/7/2016 22:03  \n",
       "4  13-07-2016 09:25:47  "
      ]
     },
     "execution_count": 2,
     "metadata": {},
     "output_type": "execute_result"
    }
   ],
   "source": [
    "#Reading the uber demand supply dataset\n",
    "\n",
    "data = pd.read_csv('Uber Request Data.csv')\n",
    "data.head()"
   ]
  },
  {
   "cell_type": "code",
   "execution_count": 3,
   "id": "2821fdff",
   "metadata": {},
   "outputs": [
    {
     "data": {
      "text/plain": [
       "Request id              0\n",
       "Pickup point            0\n",
       "Driver id            2650\n",
       "Status                  0\n",
       "Request timestamp       0\n",
       "Drop timestamp       3914\n",
       "dtype: int64"
      ]
     },
     "execution_count": 3,
     "metadata": {},
     "output_type": "execute_result"
    }
   ],
   "source": [
    "#Finding null values in the dataset if any\n",
    "\n",
    "data.isnull().sum()"
   ]
  },
  {
   "cell_type": "code",
   "execution_count": 4,
   "id": "d517a26a",
   "metadata": {},
   "outputs": [],
   "source": [
    "#Removing unnecessary column from the dataset\n",
    "data = data.drop(['Driver id'], axis = 1)"
   ]
  },
  {
   "cell_type": "code",
   "execution_count": 5,
   "id": "4cb4fd2b",
   "metadata": {},
   "outputs": [
    {
     "data": {
      "text/html": [
       "<div>\n",
       "<style scoped>\n",
       "    .dataframe tbody tr th:only-of-type {\n",
       "        vertical-align: middle;\n",
       "    }\n",
       "\n",
       "    .dataframe tbody tr th {\n",
       "        vertical-align: top;\n",
       "    }\n",
       "\n",
       "    .dataframe thead th {\n",
       "        text-align: right;\n",
       "    }\n",
       "</style>\n",
       "<table border=\"1\" class=\"dataframe\">\n",
       "  <thead>\n",
       "    <tr style=\"text-align: right;\">\n",
       "      <th></th>\n",
       "      <th>Request id</th>\n",
       "      <th>Pickup point</th>\n",
       "      <th>Status</th>\n",
       "      <th>Request timestamp</th>\n",
       "      <th>Drop timestamp</th>\n",
       "    </tr>\n",
       "  </thead>\n",
       "  <tbody>\n",
       "    <tr>\n",
       "      <th>6740</th>\n",
       "      <td>6745</td>\n",
       "      <td>City</td>\n",
       "      <td>No Cars Available</td>\n",
       "      <td>15-07-2016 23:49:03</td>\n",
       "      <td>NaN</td>\n",
       "    </tr>\n",
       "    <tr>\n",
       "      <th>6741</th>\n",
       "      <td>6752</td>\n",
       "      <td>Airport</td>\n",
       "      <td>No Cars Available</td>\n",
       "      <td>15-07-2016 23:50:05</td>\n",
       "      <td>NaN</td>\n",
       "    </tr>\n",
       "    <tr>\n",
       "      <th>6742</th>\n",
       "      <td>6751</td>\n",
       "      <td>City</td>\n",
       "      <td>No Cars Available</td>\n",
       "      <td>15-07-2016 23:52:06</td>\n",
       "      <td>NaN</td>\n",
       "    </tr>\n",
       "    <tr>\n",
       "      <th>6743</th>\n",
       "      <td>6754</td>\n",
       "      <td>City</td>\n",
       "      <td>No Cars Available</td>\n",
       "      <td>15-07-2016 23:54:39</td>\n",
       "      <td>NaN</td>\n",
       "    </tr>\n",
       "    <tr>\n",
       "      <th>6744</th>\n",
       "      <td>6753</td>\n",
       "      <td>Airport</td>\n",
       "      <td>No Cars Available</td>\n",
       "      <td>15-07-2016 23:55:03</td>\n",
       "      <td>NaN</td>\n",
       "    </tr>\n",
       "  </tbody>\n",
       "</table>\n",
       "</div>"
      ],
      "text/plain": [
       "      Request id Pickup point             Status    Request timestamp  \\\n",
       "6740        6745         City  No Cars Available  15-07-2016 23:49:03   \n",
       "6741        6752      Airport  No Cars Available  15-07-2016 23:50:05   \n",
       "6742        6751         City  No Cars Available  15-07-2016 23:52:06   \n",
       "6743        6754         City  No Cars Available  15-07-2016 23:54:39   \n",
       "6744        6753      Airport  No Cars Available  15-07-2016 23:55:03   \n",
       "\n",
       "     Drop timestamp  \n",
       "6740            NaN  \n",
       "6741            NaN  \n",
       "6742            NaN  \n",
       "6743            NaN  \n",
       "6744            NaN  "
      ]
     },
     "execution_count": 5,
     "metadata": {},
     "output_type": "execute_result"
    }
   ],
   "source": [
    "#Checking if the given column has been dropped from the dataset\n",
    "\n",
    "data.tail()"
   ]
  },
  {
   "cell_type": "code",
   "execution_count": 6,
   "id": "8796dbff",
   "metadata": {},
   "outputs": [
    {
     "data": {
      "text/plain": [
       "(6745, 5)"
      ]
     },
     "execution_count": 6,
     "metadata": {},
     "output_type": "execute_result"
    }
   ],
   "source": [
    "#Finding the total shape of the data\n",
    "\n",
    "data.shape"
   ]
  },
  {
   "cell_type": "code",
   "execution_count": 7,
   "id": "5b134c15",
   "metadata": {},
   "outputs": [
    {
     "name": "stdout",
     "output_type": "stream",
     "text": [
      "<class 'pandas.core.frame.DataFrame'>\n",
      "RangeIndex: 6745 entries, 0 to 6744\n",
      "Data columns (total 5 columns):\n",
      " #   Column             Non-Null Count  Dtype \n",
      "---  ------             --------------  ----- \n",
      " 0   Request id         6745 non-null   int64 \n",
      " 1   Pickup point       6745 non-null   object\n",
      " 2   Status             6745 non-null   object\n",
      " 3   Request timestamp  6745 non-null   object\n",
      " 4   Drop timestamp     2831 non-null   object\n",
      "dtypes: int64(1), object(4)\n",
      "memory usage: 263.6+ KB\n"
     ]
    }
   ],
   "source": [
    "#Finding data and its format\n",
    "\n",
    "data.info()"
   ]
  },
  {
   "cell_type": "code",
   "execution_count": 8,
   "id": "0c04c0a9",
   "metadata": {},
   "outputs": [
    {
     "data": {
      "text/html": [
       "<div>\n",
       "<style scoped>\n",
       "    .dataframe tbody tr th:only-of-type {\n",
       "        vertical-align: middle;\n",
       "    }\n",
       "\n",
       "    .dataframe tbody tr th {\n",
       "        vertical-align: top;\n",
       "    }\n",
       "\n",
       "    .dataframe thead th {\n",
       "        text-align: right;\n",
       "    }\n",
       "</style>\n",
       "<table border=\"1\" class=\"dataframe\">\n",
       "  <thead>\n",
       "    <tr style=\"text-align: right;\">\n",
       "      <th></th>\n",
       "      <th>Request id</th>\n",
       "      <th>Pickup point</th>\n",
       "      <th>Status</th>\n",
       "      <th>Request timestamp</th>\n",
       "      <th>Drop timestamp</th>\n",
       "    </tr>\n",
       "  </thead>\n",
       "  <tbody>\n",
       "    <tr>\n",
       "      <th>0</th>\n",
       "      <td>619</td>\n",
       "      <td>Airport</td>\n",
       "      <td>Trip Completed</td>\n",
       "      <td>2016-11-07 11:51:00</td>\n",
       "      <td>2016-11-07 13:00:00</td>\n",
       "    </tr>\n",
       "    <tr>\n",
       "      <th>1</th>\n",
       "      <td>867</td>\n",
       "      <td>Airport</td>\n",
       "      <td>Trip Completed</td>\n",
       "      <td>2016-11-07 17:57:00</td>\n",
       "      <td>2016-11-07 18:47:00</td>\n",
       "    </tr>\n",
       "    <tr>\n",
       "      <th>2</th>\n",
       "      <td>1807</td>\n",
       "      <td>City</td>\n",
       "      <td>Trip Completed</td>\n",
       "      <td>2016-12-07 09:17:00</td>\n",
       "      <td>2016-12-07 09:58:00</td>\n",
       "    </tr>\n",
       "    <tr>\n",
       "      <th>3</th>\n",
       "      <td>2532</td>\n",
       "      <td>Airport</td>\n",
       "      <td>Trip Completed</td>\n",
       "      <td>2016-12-07 21:08:00</td>\n",
       "      <td>2016-12-07 22:03:00</td>\n",
       "    </tr>\n",
       "    <tr>\n",
       "      <th>4</th>\n",
       "      <td>3112</td>\n",
       "      <td>City</td>\n",
       "      <td>Trip Completed</td>\n",
       "      <td>2016-07-13 08:33:16</td>\n",
       "      <td>2016-07-13 09:25:47</td>\n",
       "    </tr>\n",
       "  </tbody>\n",
       "</table>\n",
       "</div>"
      ],
      "text/plain": [
       "   Request id Pickup point          Status   Request timestamp  \\\n",
       "0         619      Airport  Trip Completed 2016-11-07 11:51:00   \n",
       "1         867      Airport  Trip Completed 2016-11-07 17:57:00   \n",
       "2        1807         City  Trip Completed 2016-12-07 09:17:00   \n",
       "3        2532      Airport  Trip Completed 2016-12-07 21:08:00   \n",
       "4        3112         City  Trip Completed 2016-07-13 08:33:16   \n",
       "\n",
       "       Drop timestamp  \n",
       "0 2016-11-07 13:00:00  \n",
       "1 2016-11-07 18:47:00  \n",
       "2 2016-12-07 09:58:00  \n",
       "3 2016-12-07 22:03:00  \n",
       "4 2016-07-13 09:25:47  "
      ]
     },
     "execution_count": 8,
     "metadata": {},
     "output_type": "execute_result"
    }
   ],
   "source": [
    "#Converting the Request timestamp into datetime format\n",
    "\n",
    "data['Request timestamp'] = pd.to_datetime(data['Request timestamp'])\n",
    "data['Drop timestamp'] = pd.to_datetime(data['Drop timestamp'])\n",
    "data.head()"
   ]
  },
  {
   "cell_type": "code",
   "execution_count": 9,
   "id": "53567325",
   "metadata": {},
   "outputs": [
    {
     "name": "stdout",
     "output_type": "stream",
     "text": [
      "<class 'pandas.core.frame.DataFrame'>\n",
      "RangeIndex: 6745 entries, 0 to 6744\n",
      "Data columns (total 5 columns):\n",
      " #   Column             Non-Null Count  Dtype         \n",
      "---  ------             --------------  -----         \n",
      " 0   Request id         6745 non-null   int64         \n",
      " 1   Pickup point       6745 non-null   object        \n",
      " 2   Status             6745 non-null   object        \n",
      " 3   Request timestamp  6745 non-null   datetime64[ns]\n",
      " 4   Drop timestamp     2831 non-null   datetime64[ns]\n",
      "dtypes: datetime64[ns](2), int64(1), object(2)\n",
      "memory usage: 263.6+ KB\n"
     ]
    }
   ],
   "source": [
    "#Again checking the format of the data\n",
    "\n",
    "data.info()"
   ]
  },
  {
   "cell_type": "code",
   "execution_count": 10,
   "id": "f7f96515",
   "metadata": {},
   "outputs": [
    {
     "data": {
      "text/plain": [
       "Request id              0\n",
       "Pickup point            0\n",
       "Status                  0\n",
       "Request timestamp       0\n",
       "Drop timestamp       3914\n",
       "dtype: int64"
      ]
     },
     "execution_count": 10,
     "metadata": {},
     "output_type": "execute_result"
    }
   ],
   "source": [
    "#Finding null values again\n",
    "data.isnull().sum()"
   ]
  },
  {
   "cell_type": "code",
   "execution_count": 11,
   "id": "fe7ebab1",
   "metadata": {},
   "outputs": [
    {
     "data": {
      "text/plain": [
       "Status\n",
       "Cancelled            1264\n",
       "No Cars Available    2650\n",
       "Trip Completed          0\n",
       "Name: Drop timestamp, dtype: int64"
      ]
     },
     "execution_count": 11,
     "metadata": {},
     "output_type": "execute_result"
    }
   ],
   "source": [
    "#Inspecting the status wise null values\n",
    "\n",
    "data['Drop timestamp'].isnull().groupby(data['Status']).sum()"
   ]
  },
  {
   "cell_type": "code",
   "execution_count": 12,
   "id": "b03e0465",
   "metadata": {},
   "outputs": [
    {
     "name": "stdout",
     "output_type": "stream",
     "text": [
      "['Airport' 'City']\n"
     ]
    }
   ],
   "source": [
    "#Finding total unique pickup points in uber dataset\n",
    "\n",
    "print(data['Pickup point'].unique())"
   ]
  },
  {
   "cell_type": "markdown",
   "id": "7f45e9fe",
   "metadata": {},
   "source": [
    "### Note:\n",
    "The above status shows that the total null values have been shown in Drop timestamp for which status is No cars available and ride have been cancelled.  In both the scenario that particular ride didnt completed hence, no Drop timestamp have been captured in the dataset which is correct.\n"
   ]
  },
  {
   "cell_type": "code",
   "execution_count": 13,
   "id": "5146ecf0",
   "metadata": {},
   "outputs": [
    {
     "data": {
      "text/plain": [
       "0"
      ]
     },
     "execution_count": 13,
     "metadata": {},
     "output_type": "execute_result"
    }
   ],
   "source": [
    "#Finding the duplicate values in the dataset if any\n",
    "\n",
    "data.duplicated().sum()"
   ]
  },
  {
   "cell_type": "markdown",
   "id": "f67ecd94",
   "metadata": {},
   "source": [
    "# Univariate Analysis"
   ]
  },
  {
   "cell_type": "code",
   "execution_count": 14,
   "id": "b9d59a00",
   "metadata": {},
   "outputs": [
    {
     "name": "stdout",
     "output_type": "stream",
     "text": [
      "Trip Completed       42.0\n",
      "No Cars Available    39.0\n",
      "Cancelled            19.0\n",
      "Name: Status, dtype: float64\n"
     ]
    }
   ],
   "source": [
    "print(round(data.Status.value_counts(normalize=True),2)*100)"
   ]
  },
  {
   "cell_type": "code",
   "execution_count": 15,
   "id": "c12f3ea5",
   "metadata": {},
   "outputs": [
    {
     "data": {
      "text/plain": [
       "<AxesSubplot:xlabel='Status'>"
      ]
     },
     "execution_count": 15,
     "metadata": {},
     "output_type": "execute_result"
    },
    {
     "data": {
      "image/png": "[encoded data removed]",
      "text/plain": [
       "<Figure size 432x288 with 1 Axes>"
      ]
     },
     "metadata": {
      "needs_background": "light"
     },
     "output_type": "display_data"
    }
   ],
   "source": [
    "#Plotting the univariate analysis result in a bar chart\n",
    "\n",
    "status = pd.crosstab(index = data[\"Status\"], columns=\"count\")     \n",
    "status.plot.bar()"
   ]
  },
  {
   "cell_type": "code",
   "execution_count": 16,
   "id": "04b4ddef",
   "metadata": {},
   "outputs": [
    {
     "data": {
      "text/plain": [
       "<AxesSubplot:xlabel='Pickup point'>"
      ]
     },
     "execution_count": 16,
     "metadata": {},
     "output_type": "execute_result"
    },
    {
     "data": {
      "image/png": "[encoded data removed]",
      "text/plain": [
       "<Figure size 432x288 with 1 Axes>"
      ]
     },
     "metadata": {
      "needs_background": "light"
     },
     "output_type": "display_data"
    }
   ],
   "source": [
    "pick_point = pd.crosstab(index=data['Pickup point'], columns=\"count\")\n",
    "pick_point.plot.bar()"
   ]
  },
  {
   "cell_type": "code",
   "execution_count": 17,
   "id": "e7c054f3",
   "metadata": {},
   "outputs": [
    {
     "data": {
      "text/plain": [
       "Status             Pickup point\n",
       "Cancelled          Airport          198\n",
       "                   City            1066\n",
       "No Cars Available  Airport         1713\n",
       "                   City             937\n",
       "Trip Completed     Airport         1327\n",
       "                   City            1504\n",
       "dtype: int64"
      ]
     },
     "execution_count": 17,
     "metadata": {},
     "output_type": "execute_result"
    }
   ],
   "source": [
    "#Bivariate analysis\n",
    "\n",
    "data.groupby([\"Status\",\"Pickup point\"]).size()"
   ]
  },
  {
   "cell_type": "code",
   "execution_count": 18,
   "id": "ba6d2aca",
   "metadata": {},
   "outputs": [
    {
     "data": {
      "text/plain": [
       "<AxesSubplot:xlabel='Pickup point', ylabel='count'>"
      ]
     },
     "execution_count": 18,
     "metadata": {},
     "output_type": "execute_result"
    },
    {
     "data": {
      "image/png": "[encoded data removed]",
      "text/plain": [
       "<Figure size 432x288 with 1 Axes>"
      ]
     },
     "metadata": {
      "needs_background": "light"
     },
     "output_type": "display_data"
    }
   ],
   "source": [
    "#Visualizing the count of new and pickup point bivariate analysis\n",
    "\n",
    "sns.countplot(x=data[\"Pickup point\"], hue=data[\"Status\"],data=data)"
   ]
  },
  {
   "cell_type": "markdown",
   "id": "9f047e57",
   "metadata": {},
   "source": [
    "## Bivariate Analysis\n",
    "1.  There are more no cars available from Airport to city\n",
    "2.  More number of cabs got cancelled from City to Airport"
   ]
  },
  {
   "cell_type": "code",
   "execution_count": 19,
   "id": "5e30970d",
   "metadata": {},
   "outputs": [],
   "source": [
    "##Derivating new metrics\n",
    "\n",
    "data[\"Request_hour\"] = data[\"Request timestamp\"].dt.hour"
   ]
  },
  {
   "cell_type": "code",
   "execution_count": 20,
   "id": "e8e048c2",
   "metadata": {},
   "outputs": [
    {
     "data": {
      "text/html": [
       "<div>\n",
       "<style scoped>\n",
       "    .dataframe tbody tr th:only-of-type {\n",
       "        vertical-align: middle;\n",
       "    }\n",
       "\n",
       "    .dataframe tbody tr th {\n",
       "        vertical-align: top;\n",
       "    }\n",
       "\n",
       "    .dataframe thead th {\n",
       "        text-align: right;\n",
       "    }\n",
       "</style>\n",
       "<table border=\"1\" class=\"dataframe\">\n",
       "  <thead>\n",
       "    <tr style=\"text-align: right;\">\n",
       "      <th></th>\n",
       "      <th>Request id</th>\n",
       "      <th>Pickup point</th>\n",
       "      <th>Status</th>\n",
       "      <th>Request timestamp</th>\n",
       "      <th>Drop timestamp</th>\n",
       "      <th>Request_hour</th>\n",
       "    </tr>\n",
       "  </thead>\n",
       "  <tbody>\n",
       "    <tr>\n",
       "      <th>0</th>\n",
       "      <td>619</td>\n",
       "      <td>Airport</td>\n",
       "      <td>Trip Completed</td>\n",
       "      <td>2016-11-07 11:51:00</td>\n",
       "      <td>2016-11-07 13:00:00</td>\n",
       "      <td>11</td>\n",
       "    </tr>\n",
       "    <tr>\n",
       "      <th>1</th>\n",
       "      <td>867</td>\n",
       "      <td>Airport</td>\n",
       "      <td>Trip Completed</td>\n",
       "      <td>2016-11-07 17:57:00</td>\n",
       "      <td>2016-11-07 18:47:00</td>\n",
       "      <td>17</td>\n",
       "    </tr>\n",
       "    <tr>\n",
       "      <th>2</th>\n",
       "      <td>1807</td>\n",
       "      <td>City</td>\n",
       "      <td>Trip Completed</td>\n",
       "      <td>2016-12-07 09:17:00</td>\n",
       "      <td>2016-12-07 09:58:00</td>\n",
       "      <td>9</td>\n",
       "    </tr>\n",
       "    <tr>\n",
       "      <th>3</th>\n",
       "      <td>2532</td>\n",
       "      <td>Airport</td>\n",
       "      <td>Trip Completed</td>\n",
       "      <td>2016-12-07 21:08:00</td>\n",
       "      <td>2016-12-07 22:03:00</td>\n",
       "      <td>21</td>\n",
       "    </tr>\n",
       "    <tr>\n",
       "      <th>4</th>\n",
       "      <td>3112</td>\n",
       "      <td>City</td>\n",
       "      <td>Trip Completed</td>\n",
       "      <td>2016-07-13 08:33:16</td>\n",
       "      <td>2016-07-13 09:25:47</td>\n",
       "      <td>8</td>\n",
       "    </tr>\n",
       "  </tbody>\n",
       "</table>\n",
       "</div>"
      ],
      "text/plain": [
       "   Request id Pickup point          Status   Request timestamp  \\\n",
       "0         619      Airport  Trip Completed 2016-11-07 11:51:00   \n",
       "1         867      Airport  Trip Completed 2016-11-07 17:57:00   \n",
       "2        1807         City  Trip Completed 2016-12-07 09:17:00   \n",
       "3        2532      Airport  Trip Completed 2016-12-07 21:08:00   \n",
       "4        3112         City  Trip Completed 2016-07-13 08:33:16   \n",
       "\n",
       "       Drop timestamp  Request_hour  \n",
       "0 2016-11-07 13:00:00            11  \n",
       "1 2016-11-07 18:47:00            17  \n",
       "2 2016-12-07 09:58:00             9  \n",
       "3 2016-12-07 22:03:00            21  \n",
       "4 2016-07-13 09:25:47             8  "
      ]
     },
     "execution_count": 20,
     "metadata": {},
     "output_type": "execute_result"
    }
   ],
   "source": [
    "data.head()"
   ]
  },
  {
   "cell_type": "code",
   "execution_count": 21,
   "id": "6bb5118b",
   "metadata": {},
   "outputs": [],
   "source": [
    "#Segmenting Time slots\n",
    "\n",
    "data[\"Request_Time_slots\"] = \"Early Morning\"\n",
    "data.loc[data[\"Request_hour\"].between(5,8, inclusive=True),\"Request_Time_slots\"]=\"Morning\"\n",
    "data.loc[data[\"Request_hour\"].between(9,12, inclusive=True), \"Request_Time_slots\"]=\"Late Morning\"\n",
    "data.loc[data[\"Request_hour\"].between(13,16, inclusive=True), \"Request_Time_slots\"]=\"Afternoon\"\n",
    "data.loc[data[\"Request_hour\"].between(17,21, inclusive=True), \"Request_Time_slots\"]=\"Evening\"\n",
    "data.loc[data[\"Request_hour\"].between(22,24, inclusive=True), \"Request_Time_slots\"]=\"Night\""
   ]
  },
  {
   "cell_type": "code",
   "execution_count": 22,
   "id": "1e0ff3f4",
   "metadata": {},
   "outputs": [
    {
     "data": {
      "text/html": [
       "<div>\n",
       "<style scoped>\n",
       "    .dataframe tbody tr th:only-of-type {\n",
       "        vertical-align: middle;\n",
       "    }\n",
       "\n",
       "    .dataframe tbody tr th {\n",
       "        vertical-align: top;\n",
       "    }\n",
       "\n",
       "    .dataframe thead th {\n",
       "        text-align: right;\n",
       "    }\n",
       "</style>\n",
       "<table border=\"1\" class=\"dataframe\">\n",
       "  <thead>\n",
       "    <tr style=\"text-align: right;\">\n",
       "      <th></th>\n",
       "      <th>Request id</th>\n",
       "      <th>Pickup point</th>\n",
       "      <th>Status</th>\n",
       "      <th>Request timestamp</th>\n",
       "      <th>Drop timestamp</th>\n",
       "      <th>Request_hour</th>\n",
       "      <th>Request_Time_slots</th>\n",
       "    </tr>\n",
       "  </thead>\n",
       "  <tbody>\n",
       "    <tr>\n",
       "      <th>0</th>\n",
       "      <td>619</td>\n",
       "      <td>Airport</td>\n",
       "      <td>Trip Completed</td>\n",
       "      <td>2016-11-07 11:51:00</td>\n",
       "      <td>2016-11-07 13:00:00</td>\n",
       "      <td>11</td>\n",
       "      <td>Late Morning</td>\n",
       "    </tr>\n",
       "    <tr>\n",
       "      <th>1</th>\n",
       "      <td>867</td>\n",
       "      <td>Airport</td>\n",
       "      <td>Trip Completed</td>\n",
       "      <td>2016-11-07 17:57:00</td>\n",
       "      <td>2016-11-07 18:47:00</td>\n",
       "      <td>17</td>\n",
       "      <td>Evening</td>\n",
       "    </tr>\n",
       "    <tr>\n",
       "      <th>2</th>\n",
       "      <td>1807</td>\n",
       "      <td>City</td>\n",
       "      <td>Trip Completed</td>\n",
       "      <td>2016-12-07 09:17:00</td>\n",
       "      <td>2016-12-07 09:58:00</td>\n",
       "      <td>9</td>\n",
       "      <td>Late Morning</td>\n",
       "    </tr>\n",
       "    <tr>\n",
       "      <th>3</th>\n",
       "      <td>2532</td>\n",
       "      <td>Airport</td>\n",
       "      <td>Trip Completed</td>\n",
       "      <td>2016-12-07 21:08:00</td>\n",
       "      <td>2016-12-07 22:03:00</td>\n",
       "      <td>21</td>\n",
       "      <td>Evening</td>\n",
       "    </tr>\n",
       "    <tr>\n",
       "      <th>4</th>\n",
       "      <td>3112</td>\n",
       "      <td>City</td>\n",
       "      <td>Trip Completed</td>\n",
       "      <td>2016-07-13 08:33:16</td>\n",
       "      <td>2016-07-13 09:25:47</td>\n",
       "      <td>8</td>\n",
       "      <td>Morning</td>\n",
       "    </tr>\n",
       "  </tbody>\n",
       "</table>\n",
       "</div>"
      ],
      "text/plain": [
       "   Request id Pickup point          Status   Request timestamp  \\\n",
       "0         619      Airport  Trip Completed 2016-11-07 11:51:00   \n",
       "1         867      Airport  Trip Completed 2016-11-07 17:57:00   \n",
       "2        1807         City  Trip Completed 2016-12-07 09:17:00   \n",
       "3        2532      Airport  Trip Completed 2016-12-07 21:08:00   \n",
       "4        3112         City  Trip Completed 2016-07-13 08:33:16   \n",
       "\n",
       "       Drop timestamp  Request_hour Request_Time_slots  \n",
       "0 2016-11-07 13:00:00            11       Late Morning  \n",
       "1 2016-11-07 18:47:00            17            Evening  \n",
       "2 2016-12-07 09:58:00             9       Late Morning  \n",
       "3 2016-12-07 22:03:00            21            Evening  \n",
       "4 2016-07-13 09:25:47             8            Morning  "
      ]
     },
     "execution_count": 22,
     "metadata": {},
     "output_type": "execute_result"
    }
   ],
   "source": [
    "data.head()"
   ]
  },
  {
   "cell_type": "code",
   "execution_count": 23,
   "id": "e7e4c085",
   "metadata": {},
   "outputs": [
    {
     "data": {
      "text/plain": [
       "<AxesSubplot:xlabel='Request_Time_slots', ylabel='count'>"
      ]
     },
     "execution_count": 23,
     "metadata": {},
     "output_type": "execute_result"
    },
    {
     "data": {
      "image/png": "[encoded data removed]",
      "text/plain": [
       "<Figure size 432x288 with 1 Axes>"
      ]
     },
     "metadata": {
      "needs_background": "light"
     },
     "output_type": "display_data"
    }
   ],
   "source": [
    "sns.countplot(x=data[\"Request_Time_slots\"], hue=data[\"Status\"], data=data)"
   ]
  },
  {
   "cell_type": "markdown",
   "id": "74ceacd2",
   "metadata": {},
   "source": [
    "### Observations:\n",
    "More numer of no cars available during Evening time pick hours\n"
   ]
  },
  {
   "cell_type": "code",
   "execution_count": 24,
   "id": "e42572f7",
   "metadata": {},
   "outputs": [],
   "source": [
    "#As Demand can include trips completed, cancelled or no cars available, we will create a column with 1 as a value\n",
    "data['Demand']=1"
   ]
  },
  {
   "cell_type": "code",
   "execution_count": 25,
   "id": "f727d441",
   "metadata": {},
   "outputs": [],
   "source": [
    "#As Supply can only be the trips completed, rest all are excluded, so we will create a column with 1 as a supply value trips completed and 0 otherwise.\n",
    "\n",
    "data['Supply'] = 0\n",
    "data.loc[(data['Status']=='Trip Completed'),'Supply']=1"
   ]
  },
  {
   "cell_type": "code",
   "execution_count": 26,
   "id": "02175e35",
   "metadata": {},
   "outputs": [],
   "source": [
    "#Demand Supply Gap can be defined as a difference between Demand and Supply\n",
    "\n",
    "data['Gap'] = data['Demand'] - data['Supply']\n",
    "data.loc[data['Gap']==0,'Gap'] = 'Trip Completed'\n",
    "data.loc[data['Gap']==1,'Gap'] = 'Trip Not Completed'"
   ]
  },
  {
   "cell_type": "code",
   "execution_count": 27,
   "id": "d8262d99",
   "metadata": {},
   "outputs": [],
   "source": [
    "#Removing unncessary columns\n",
    "\n",
    "data = data.drop(['Request_hour', 'Demand', 'Supply'], axis=1)"
   ]
  },
  {
   "cell_type": "code",
   "execution_count": 28,
   "id": "ebf7375e",
   "metadata": {},
   "outputs": [
    {
     "data": {
      "text/html": [
       "<div>\n",
       "<style scoped>\n",
       "    .dataframe tbody tr th:only-of-type {\n",
       "        vertical-align: middle;\n",
       "    }\n",
       "\n",
       "    .dataframe tbody tr th {\n",
       "        vertical-align: top;\n",
       "    }\n",
       "\n",
       "    .dataframe thead th {\n",
       "        text-align: right;\n",
       "    }\n",
       "</style>\n",
       "<table border=\"1\" class=\"dataframe\">\n",
       "  <thead>\n",
       "    <tr style=\"text-align: right;\">\n",
       "      <th></th>\n",
       "      <th>Request id</th>\n",
       "      <th>Pickup point</th>\n",
       "      <th>Status</th>\n",
       "      <th>Request timestamp</th>\n",
       "      <th>Drop timestamp</th>\n",
       "      <th>Request_Time_slots</th>\n",
       "      <th>Gap</th>\n",
       "    </tr>\n",
       "  </thead>\n",
       "  <tbody>\n",
       "    <tr>\n",
       "      <th>0</th>\n",
       "      <td>619</td>\n",
       "      <td>Airport</td>\n",
       "      <td>Trip Completed</td>\n",
       "      <td>2016-11-07 11:51:00</td>\n",
       "      <td>2016-11-07 13:00:00</td>\n",
       "      <td>Late Morning</td>\n",
       "      <td>Trip Completed</td>\n",
       "    </tr>\n",
       "    <tr>\n",
       "      <th>1</th>\n",
       "      <td>867</td>\n",
       "      <td>Airport</td>\n",
       "      <td>Trip Completed</td>\n",
       "      <td>2016-11-07 17:57:00</td>\n",
       "      <td>2016-11-07 18:47:00</td>\n",
       "      <td>Evening</td>\n",
       "      <td>Trip Completed</td>\n",
       "    </tr>\n",
       "    <tr>\n",
       "      <th>2</th>\n",
       "      <td>1807</td>\n",
       "      <td>City</td>\n",
       "      <td>Trip Completed</td>\n",
       "      <td>2016-12-07 09:17:00</td>\n",
       "      <td>2016-12-07 09:58:00</td>\n",
       "      <td>Late Morning</td>\n",
       "      <td>Trip Completed</td>\n",
       "    </tr>\n",
       "    <tr>\n",
       "      <th>3</th>\n",
       "      <td>2532</td>\n",
       "      <td>Airport</td>\n",
       "      <td>Trip Completed</td>\n",
       "      <td>2016-12-07 21:08:00</td>\n",
       "      <td>2016-12-07 22:03:00</td>\n",
       "      <td>Evening</td>\n",
       "      <td>Trip Completed</td>\n",
       "    </tr>\n",
       "    <tr>\n",
       "      <th>4</th>\n",
       "      <td>3112</td>\n",
       "      <td>City</td>\n",
       "      <td>Trip Completed</td>\n",
       "      <td>2016-07-13 08:33:16</td>\n",
       "      <td>2016-07-13 09:25:47</td>\n",
       "      <td>Morning</td>\n",
       "      <td>Trip Completed</td>\n",
       "    </tr>\n",
       "  </tbody>\n",
       "</table>\n",
       "</div>"
      ],
      "text/plain": [
       "   Request id Pickup point          Status   Request timestamp  \\\n",
       "0         619      Airport  Trip Completed 2016-11-07 11:51:00   \n",
       "1         867      Airport  Trip Completed 2016-11-07 17:57:00   \n",
       "2        1807         City  Trip Completed 2016-12-07 09:17:00   \n",
       "3        2532      Airport  Trip Completed 2016-12-07 21:08:00   \n",
       "4        3112         City  Trip Completed 2016-07-13 08:33:16   \n",
       "\n",
       "       Drop timestamp Request_Time_slots             Gap  \n",
       "0 2016-11-07 13:00:00       Late Morning  Trip Completed  \n",
       "1 2016-11-07 18:47:00            Evening  Trip Completed  \n",
       "2 2016-12-07 09:58:00       Late Morning  Trip Completed  \n",
       "3 2016-12-07 22:03:00            Evening  Trip Completed  \n",
       "4 2016-07-13 09:25:47            Morning  Trip Completed  "
      ]
     },
     "execution_count": 28,
     "metadata": {},
     "output_type": "execute_result"
    }
   ],
   "source": [
    "data.head()"
   ]
  },
  {
   "cell_type": "markdown",
   "id": "0c0d4159",
   "metadata": {},
   "source": [
    "# Graphical analysis"
   ]
  },
  {
   "cell_type": "code",
   "execution_count": 29,
   "id": "bd1a32ed",
   "metadata": {},
   "outputs": [
    {
     "data": {
      "text/plain": [
       "<AxesSubplot:xlabel='Request_Time_slots', ylabel='count'>"
      ]
     },
     "execution_count": 29,
     "metadata": {},
     "output_type": "execute_result"
    },
    {
     "data": {
      "image/png": "[encoded data removed]",
      "text/plain": [
       "<Figure size 432x288 with 1 Axes>"
      ]
     },
     "metadata": {
      "needs_background": "light"
     },
     "output_type": "display_data"
    }
   ],
   "source": [
    "# Plot to find the count of the three requests, according to the defined time slots\n",
    "sns.countplot(x=data['Request_Time_slots'],hue = data['Status'], data = data)"
   ]
  },
  {
   "cell_type": "markdown",
   "id": "2cc5e2c2",
   "metadata": {},
   "source": [
    "# Observations:"
   ]
  },
  {
   "cell_type": "markdown",
   "id": "824a3fcc",
   "metadata": {},
   "source": [
    "#### There are maximum no cars available numbers are maximum in the evening time.\n",
    "Most cancelled trip are"
   ]
  },
  {
   "cell_type": "markdown",
   "id": "ba910ef6",
   "metadata": {},
   "source": [
    "### Creating two separate dataframe for airport and city"
   ]
  },
  {
   "cell_type": "code",
   "execution_count": 30,
   "id": "1fa7a75a",
   "metadata": {},
   "outputs": [],
   "source": [
    "df_airport_pickup = data.loc[data['Pickup point']=='Airport']\n",
    "df_city_pickup = data.loc[data['Pickup point']=='City']"
   ]
  },
  {
   "cell_type": "code",
   "execution_count": 31,
   "id": "2f0f55d3",
   "metadata": {},
   "outputs": [],
   "source": [
    "#Calculating a Demand supply gap from the dataset\n",
    "\n",
    "def calculateDemandSupply(dataframe,timeSlot):\n",
    "    demand = dataframe[(dataframe['Request_Time_slots']==timeSlot)]['Request id'].count()\n",
    "    supply = dataframe[(dataframe['Request_Time_slots']==timeSlot)&(data['Status']=='Trip Completed')]['Request id'].count()\n",
    "    gap = demand-supply\n",
    "    \n",
    "    return demand,supply,gap"
   ]
  },
  {
   "cell_type": "code",
   "execution_count": 32,
   "id": "ae4b9ae8",
   "metadata": {},
   "outputs": [
    {
     "data": {
      "text/html": [
       "<div>\n",
       "<style scoped>\n",
       "    .dataframe tbody tr th:only-of-type {\n",
       "        vertical-align: middle;\n",
       "    }\n",
       "\n",
       "    .dataframe tbody tr th {\n",
       "        vertical-align: top;\n",
       "    }\n",
       "\n",
       "    .dataframe thead th {\n",
       "        text-align: right;\n",
       "    }\n",
       "</style>\n",
       "<table border=\"1\" class=\"dataframe\">\n",
       "  <thead>\n",
       "    <tr style=\"text-align: right;\">\n",
       "      <th></th>\n",
       "      <th>Request id</th>\n",
       "      <th>Pickup point</th>\n",
       "      <th>Status</th>\n",
       "      <th>Request timestamp</th>\n",
       "      <th>Drop timestamp</th>\n",
       "      <th>Request_Time_slots</th>\n",
       "      <th>Gap</th>\n",
       "    </tr>\n",
       "  </thead>\n",
       "  <tbody>\n",
       "    <tr>\n",
       "      <th>0</th>\n",
       "      <td>619</td>\n",
       "      <td>Airport</td>\n",
       "      <td>Trip Completed</td>\n",
       "      <td>2016-11-07 11:51:00</td>\n",
       "      <td>2016-11-07 13:00:00</td>\n",
       "      <td>Late Morning</td>\n",
       "      <td>Trip Completed</td>\n",
       "    </tr>\n",
       "    <tr>\n",
       "      <th>1</th>\n",
       "      <td>867</td>\n",
       "      <td>Airport</td>\n",
       "      <td>Trip Completed</td>\n",
       "      <td>2016-11-07 17:57:00</td>\n",
       "      <td>2016-11-07 18:47:00</td>\n",
       "      <td>Evening</td>\n",
       "      <td>Trip Completed</td>\n",
       "    </tr>\n",
       "    <tr>\n",
       "      <th>2</th>\n",
       "      <td>1807</td>\n",
       "      <td>City</td>\n",
       "      <td>Trip Completed</td>\n",
       "      <td>2016-12-07 09:17:00</td>\n",
       "      <td>2016-12-07 09:58:00</td>\n",
       "      <td>Late Morning</td>\n",
       "      <td>Trip Completed</td>\n",
       "    </tr>\n",
       "    <tr>\n",
       "      <th>3</th>\n",
       "      <td>2532</td>\n",
       "      <td>Airport</td>\n",
       "      <td>Trip Completed</td>\n",
       "      <td>2016-12-07 21:08:00</td>\n",
       "      <td>2016-12-07 22:03:00</td>\n",
       "      <td>Evening</td>\n",
       "      <td>Trip Completed</td>\n",
       "    </tr>\n",
       "    <tr>\n",
       "      <th>4</th>\n",
       "      <td>3112</td>\n",
       "      <td>City</td>\n",
       "      <td>Trip Completed</td>\n",
       "      <td>2016-07-13 08:33:16</td>\n",
       "      <td>2016-07-13 09:25:47</td>\n",
       "      <td>Morning</td>\n",
       "      <td>Trip Completed</td>\n",
       "    </tr>\n",
       "  </tbody>\n",
       "</table>\n",
       "</div>"
      ],
      "text/plain": [
       "   Request id Pickup point          Status   Request timestamp  \\\n",
       "0         619      Airport  Trip Completed 2016-11-07 11:51:00   \n",
       "1         867      Airport  Trip Completed 2016-11-07 17:57:00   \n",
       "2        1807         City  Trip Completed 2016-12-07 09:17:00   \n",
       "3        2532      Airport  Trip Completed 2016-12-07 21:08:00   \n",
       "4        3112         City  Trip Completed 2016-07-13 08:33:16   \n",
       "\n",
       "       Drop timestamp Request_Time_slots             Gap  \n",
       "0 2016-11-07 13:00:00       Late Morning  Trip Completed  \n",
       "1 2016-11-07 18:47:00            Evening  Trip Completed  \n",
       "2 2016-12-07 09:58:00       Late Morning  Trip Completed  \n",
       "3 2016-12-07 22:03:00            Evening  Trip Completed  \n",
       "4 2016-07-13 09:25:47            Morning  Trip Completed  "
      ]
     },
     "execution_count": 32,
     "metadata": {},
     "output_type": "execute_result"
    }
   ],
   "source": [
    "data.head()"
   ]
  },
  {
   "cell_type": "code",
   "execution_count": 33,
   "id": "2c15b66f",
   "metadata": {},
   "outputs": [
    {
     "data": {
      "text/plain": [
       "<AxesSubplot:xlabel='Pickup point', ylabel='count'>"
      ]
     },
     "execution_count": 33,
     "metadata": {},
     "output_type": "execute_result"
    },
    {
     "data": {
      "image/png": "[encoded data removed]",
      "text/plain": [
       "<Figure size 432x288 with 1 Axes>"
      ]
     },
     "metadata": {
      "needs_background": "light"
     },
     "output_type": "display_data"
    }
   ],
   "source": [
    "#Plotting the pick up point wise status of cabs\n",
    "\n",
    "sns.countplot(x=data['Pickup point'],hue=data['Status'],data=data)"
   ]
  },
  {
   "cell_type": "code",
   "execution_count": 34,
   "id": "04cb83ce",
   "metadata": {},
   "outputs": [
    {
     "data": {
      "text/plain": [
       "<AxesSubplot:xlabel='Pickup point,Request_Time_slots'>"
      ]
     },
     "execution_count": 34,
     "metadata": {},
     "output_type": "execute_result"
    },
    {
     "data": {
      "image/png": "[encoded data removed]",
      "text/plain": [
       "<Figure size 432x288 with 1 Axes>"
      ]
     },
     "metadata": {
      "needs_background": "light"
     },
     "output_type": "display_data"
    }
   ],
   "source": [
    "#Plot to find count of the status as per the pickup point, Request time slot and status post grouping of them\n",
    "\n",
    "data.groupby(['Pickup point','Request_Time_slots','Status'])['Request id'].count().unstack(fill_value=0).plot.bar()"
   ]
  },
  {
   "cell_type": "markdown",
   "id": "cd7eebef",
   "metadata": {},
   "source": [
    "#### Maximum no. of uber cars not avbailable from Airport to city in the evening time\n",
    "#### Most cancelled trips from City to airport in the morning time"
   ]
  },
  {
   "cell_type": "code",
   "execution_count": 35,
   "id": "1a421849",
   "metadata": {},
   "outputs": [
    {
     "data": {
      "text/plain": [
       "<AxesSubplot:xlabel='Gap', ylabel='count'>"
      ]
     },
     "execution_count": 35,
     "metadata": {},
     "output_type": "execute_result"
    },
    {
     "data": {
      "image/png": "[encoded data removed]",
      "text/plain": [
       "<Figure size 432x288 with 1 Axes>"
      ]
     },
     "metadata": {
      "needs_background": "light"
     },
     "output_type": "display_data"
    }
   ],
   "source": [
    "##Finding out the gap between the Trips\n",
    "\n",
    "sns.countplot(x=data['Gap'],data=data)"
   ]
  },
  {
   "cell_type": "markdown",
   "id": "b38376b0",
   "metadata": {},
   "source": [
    "##### More trips have not been completed than the completed trips as per the Gap analysis we have made"
   ]
  },
  {
   "cell_type": "code",
   "execution_count": 36,
   "id": "27ddef16",
   "metadata": {},
   "outputs": [
    {
     "data": {
      "text/plain": [
       "<AxesSubplot:xlabel='Request_Time_slots'>"
      ]
     },
     "execution_count": 36,
     "metadata": {},
     "output_type": "execute_result"
    },
    {
     "data": {
      "image/png": "[encoded data removed]",
      "text/plain": [
       "<Figure size 432x288 with 1 Axes>"
      ]
     },
     "metadata": {
      "needs_background": "light"
     },
     "output_type": "display_data"
    }
   ],
   "source": [
    "##Plot to count the number of requests that was completed and which was not, against the time slot\n",
    "data.groupby(['Request_Time_slots','Gap'])['Request id'].count().unstack(fill_value=0).plot.bar()"
   ]
  },
  {
   "cell_type": "code",
   "execution_count": 37,
   "id": "f002b84f",
   "metadata": {},
   "outputs": [
    {
     "data": {
      "text/plain": [
       "<AxesSubplot:xlabel='Pickup point'>"
      ]
     },
     "execution_count": 37,
     "metadata": {},
     "output_type": "execute_result"
    },
    {
     "data": {
      "image/png": "[encoded data removed]",
      "text/plain": [
       "<Figure size 432x288 with 1 Axes>"
      ]
     },
     "metadata": {
      "needs_background": "light"
     },
     "output_type": "display_data"
    }
   ],
   "source": [
    "#Plot to count the number of requests that was completed and which was not, against pickup point\n",
    "data.groupby(['Pickup point','Gap'])['Request id'].count().unstack(fill_value=0).plot.bar()"
   ]
  },
  {
   "cell_type": "code",
   "execution_count": 38,
   "id": "1caa36c5",
   "metadata": {},
   "outputs": [
    {
     "data": {
      "text/plain": [
       "<AxesSubplot:xlabel='Request_Time_slots,Pickup point'>"
      ]
     },
     "execution_count": 38,
     "metadata": {},
     "output_type": "execute_result"
    },
    {
     "data": {
      "image/png": "[encoded data removed]",
      "text/plain": [
       "<Figure size 432x288 with 1 Axes>"
      ]
     },
     "metadata": {
      "needs_background": "light"
     },
     "output_type": "display_data"
    }
   ],
   "source": [
    "data.groupby(['Request_Time_slots','Pickup point','Gap'])['Request id'].count().unstack(fill_value=0).plot.bar()"
   ]
  },
  {
   "cell_type": "markdown",
   "id": "8271bad5",
   "metadata": {},
   "source": [
    "# Hypothesis:\n",
    "    \n",
    "Pick up point city:\n",
    "    \n",
    "As per the analysis, the morning time slot where most of the requests being getting cancelled by uber drivers.  This might happen\n",
    "due to morning pick hours rush of all the office crowd and hence drivers might go for the shorter trips as the airport is too\n",
    "far from the city.\n",
    " \n",
    "Pickup point Airport:\n",
    "    \n",
    "As per the analysis, in the evening time no cars available at airport as uber is having very lesser cars so as the same might\n",
    "serving inside the city during evening time.\n",
    "\n",
    "Conclusions:\n",
    "    \n",
    "Basis the analysis provided below are some probable solutions to the uber problem analysis:\n",
    "    \n",
    "    1.  To fill the Demand and supply gap there should be a proper stand where all the uber cabs easily gets parked so that \n",
    "        they dont have to go anywhere else and graph of incomplete requests might come down.\n",
    "    2.  Uber may start an incentives to the drivers who drives from city to Airport and vice versa.  It will encourages the\n",
    "        drivers not to cancel the trip from city to airport and the cancellation graph would come down.\n",
    "    3.  Last solution to this would be uber should increase the no. of cabs in their fleet to fill the gap of shortage of \n",
    "        cabs."
   ]
  }
 ],
 "metadata": {
  "kernelspec": {
   "display_name": "Python 3 (ipykernel)",
   "language": "python",
   "name": "python3"
  },
  "language_info": {
   "codemirror_mode": {
    "name": "ipython",
    "version": 3
   },
   "file_extension": ".py",
   "mimetype": "text/x-python",
   "name": "python",
   "nbconvert_exporter": "python",
   "pygments_lexer": "ipython3",
   "version": "3.9.12"
  }
 },
 "nbformat": 4,
 "nbformat_minor": 5
}
