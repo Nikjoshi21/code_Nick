{
 "cells": [
  {
   "cell_type": "markdown",
   "id": "53759851",
   "metadata": {},
   "source": [
    "# PDF to excel conversion code\n",
    "\n"
   ]
  },
  {
   "cell_type": "code",
   "execution_count": 1,
   "id": "3b3f78e4",
   "metadata": {},
   "outputs": [],
   "source": [
    "#Importing all the required liabraries\n",
    "\n",
    "import re\n",
    "\n",
    "import pdfplumber\n",
    "import pandas as pd\n",
    "from collections import namedtuple"
   ]
  },
  {
   "cell_type": "code",
   "execution_count": 2,
   "id": "e6c87a3e",
   "metadata": {},
   "outputs": [],
   "source": [
    "#Creating a tuple consists of the column wise data bifurcation\n",
    "\n",
    "Line = namedtuple('Line', 'company_id company_name doctype reference currency voucher inv_date due_date open_amt_tc open_amt_bc current months1 months2 months3')"
   ]
  },
  {
   "cell_type": "code",
   "execution_count": 3,
   "id": "6fe8b1b0",
   "metadata": {},
   "outputs": [],
   "source": [
    "#Creating company and line reg expressions\n",
    "\n",
    "company_re = re.compile(r'(V\\d+) (.*) Phone:')\n",
    "line_re = re.compile(r'\\d{2}/\\d{2}/\\d{4} \\d{2}/\\d{2}/\\d{4}')"
   ]
  },
  {
   "cell_type": "code",
   "execution_count": 4,
   "id": "04084e89",
   "metadata": {},
   "outputs": [
    {
     "data": {
      "text/plain": [
       "'Company A LTD'"
      ]
     },
     "execution_count": 4,
     "metadata": {},
     "output_type": "execute_result"
    }
   ],
   "source": [
    "#Checking the grouping of the characters to their reg expressions categories\n",
    "\n",
    "company_re.search('V50012 Company A LTD Phone:2123232323').group(2)"
   ]
  },
  {
   "cell_type": "code",
   "execution_count": 5,
   "id": "73a69d24",
   "metadata": {},
   "outputs": [
    {
     "data": {
      "text/plain": [
       "Line(company_id='company_no', company_name='company_name', doctype='INVOICE', reference='478', currency='USD', voucher='BFS030OB/000000057', inv_date='11/03/2014', due_date='12/30/2014', open_amt_tc='263.52', open_amt_bc='263.52', current='0.00', months1='0.00', months2='0.00', months3='263.52')"
      ]
     },
     "execution_count": 5,
     "metadata": {},
     "output_type": "execute_result"
    }
   ],
   "source": [
    "#Splitting the column wise data to their respective fields and formats\n",
    "\n",
    "Line(*'company_no company_name INVOICE 478 USD BFS030OB/000000057 11/03/2014 12/30/2014 263.52 263.52 0.00 0.00 0.00 263.52'.split())"
   ]
  },
  {
   "cell_type": "code",
   "execution_count": 6,
   "id": "7a5992de",
   "metadata": {},
   "outputs": [],
   "source": [
    "#Defining pdf file to convert\n",
    "\n",
    "file = 'Sample Report Pythonic.pdf'"
   ]
  },
  {
   "cell_type": "code",
   "execution_count": 7,
   "id": "ddc828df",
   "metadata": {},
   "outputs": [],
   "source": [
    "# pdf to excel conversion code by splitting basis the format of each element specified in the pdf\n",
    "\n",
    "lines = []\n",
    "total_check = 0\n",
    "\n",
    "with pdfplumber.open(file) as pdf:\n",
    "    pages = pdf.pages\n",
    "    for page in pdf.pages:\n",
    "        text = page.extract_text()\n",
    "        for line in text.split('\\n'):\n",
    "            comp = company_re.search(line)\n",
    "            if comp:\n",
    "                vend_no, vend_name = comp.group(1),comp.group(2)\n",
    "                \n",
    "            elif line.startswith('INVOICES'):\n",
    "                doctype = 'INVOICE'\n",
    "                \n",
    "            elif  line.startswith('CREDITNOTES'):\n",
    "                doctype = 'CREDITNOTE'\n",
    "                \n",
    "            elif line_re.search(line):\n",
    "                items = line.split()\n",
    "                lines.append(Line(vend_no, vend_name, doctype, *items))\n",
    "                \n",
    "            elif line.startswith('Supplier total'):\n",
    "                tot = float(line.split()[2].replace(',', ''))\n",
    "                total_check += tot"
   ]
  },
  {
   "cell_type": "code",
   "execution_count": 8,
   "id": "da194d07",
   "metadata": {},
   "outputs": [
    {
     "data": {
      "text/plain": [
       "[Line(company_id='V50012', company_name='Company A LTD', doctype='CREDITNOTE', reference='478', currency='USD', voucher='BFS030OB/000000057', inv_date='11/03/2014', due_date='12/30/2014', open_amt_tc='263.52', open_amt_bc='263.52', current='0.00', months1='0.00', months2='0.00', months3='263.52'),\n",
       " Line(company_id='V50012', company_name='CARGO SAFETRAVEL LTD', doctype='INVOICE', reference='J1062628/1', currency='USD', voucher='BFS026/000001137', inv_date='03/30/2019', due_date='03/30/2019', open_amt_tc='-102.00', open_amt_bc='-102.00', current='0.00', months1='-102.00', months2='0.00', months3='0.00'),\n",
       " Line(company_id='V50012', company_name='CARGO SAFETRAVEL LTD', doctype='INVOICE', reference='J1062638/1', currency='USD', voucher='BFS026/000001136', inv_date='02/28/2019', due_date='03/15/2019', open_amt_tc='-204.00', open_amt_bc='-204.00', current='0.00', months1='-204.00', months2='0.00', months3='0.00'),\n",
       " Line(company_id='V50014', company_name='ChaseB REGISTER USDA', doctype='INVOICE', reference='110-135633', currency='USD', voucher='BFS026/000001064', inv_date='02/05/2019', due_date='04/29/2019', open_amt_tc='-4,665.00', open_amt_bc='-4,665.00', current='-4,665.00', months1='0.00', months2='0.00', months3='0.00'),\n",
       " Line(company_id='V50015', company_name='METALS CHEMICALS GROUP LIMITED', doctype='INVOICE', reference='SI191433', currency='USD', voucher='BFS026/000000908', inv_date='02/12/2019', due_date='03/30/2019', open_amt_tc='-198.00', open_amt_bc='-198.00', current='0.00', months1='-198.00', months2='0.00', months3='0.00')]"
      ]
     },
     "execution_count": 8,
     "metadata": {},
     "output_type": "execute_result"
    }
   ],
   "source": [
    "lines[:5]"
   ]
  },
  {
   "cell_type": "code",
   "execution_count": 9,
   "id": "2ebe4878",
   "metadata": {},
   "outputs": [
    {
     "data": {
      "text/html": [
       "<div>\n",
       "<style scoped>\n",
       "    .dataframe tbody tr th:only-of-type {\n",
       "        vertical-align: middle;\n",
       "    }\n",
       "\n",
       "    .dataframe tbody tr th {\n",
       "        vertical-align: top;\n",
       "    }\n",
       "\n",
       "    .dataframe thead th {\n",
       "        text-align: right;\n",
       "    }\n",
       "</style>\n",
       "<table border=\"1\" class=\"dataframe\">\n",
       "  <thead>\n",
       "    <tr style=\"text-align: right;\">\n",
       "      <th></th>\n",
       "      <th>company_id</th>\n",
       "      <th>company_name</th>\n",
       "      <th>doctype</th>\n",
       "      <th>reference</th>\n",
       "      <th>currency</th>\n",
       "      <th>voucher</th>\n",
       "      <th>inv_date</th>\n",
       "      <th>due_date</th>\n",
       "      <th>open_amt_tc</th>\n",
       "      <th>open_amt_bc</th>\n",
       "      <th>current</th>\n",
       "      <th>months1</th>\n",
       "      <th>months2</th>\n",
       "      <th>months3</th>\n",
       "    </tr>\n",
       "  </thead>\n",
       "  <tbody>\n",
       "    <tr>\n",
       "      <th>0</th>\n",
       "      <td>V50012</td>\n",
       "      <td>Company A LTD</td>\n",
       "      <td>CREDITNOTE</td>\n",
       "      <td>478</td>\n",
       "      <td>USD</td>\n",
       "      <td>BFS030OB/000000057</td>\n",
       "      <td>11/03/2014</td>\n",
       "      <td>12/30/2014</td>\n",
       "      <td>263.52</td>\n",
       "      <td>263.52</td>\n",
       "      <td>0.00</td>\n",
       "      <td>0.00</td>\n",
       "      <td>0.00</td>\n",
       "      <td>263.52</td>\n",
       "    </tr>\n",
       "    <tr>\n",
       "      <th>1</th>\n",
       "      <td>V50012</td>\n",
       "      <td>CARGO SAFETRAVEL LTD</td>\n",
       "      <td>INVOICE</td>\n",
       "      <td>J1062628/1</td>\n",
       "      <td>USD</td>\n",
       "      <td>BFS026/000001137</td>\n",
       "      <td>03/30/2019</td>\n",
       "      <td>03/30/2019</td>\n",
       "      <td>-102.00</td>\n",
       "      <td>-102.00</td>\n",
       "      <td>0.00</td>\n",
       "      <td>-102.00</td>\n",
       "      <td>0.00</td>\n",
       "      <td>0.00</td>\n",
       "    </tr>\n",
       "    <tr>\n",
       "      <th>2</th>\n",
       "      <td>V50012</td>\n",
       "      <td>CARGO SAFETRAVEL LTD</td>\n",
       "      <td>INVOICE</td>\n",
       "      <td>J1062638/1</td>\n",
       "      <td>USD</td>\n",
       "      <td>BFS026/000001136</td>\n",
       "      <td>02/28/2019</td>\n",
       "      <td>03/15/2019</td>\n",
       "      <td>-204.00</td>\n",
       "      <td>-204.00</td>\n",
       "      <td>0.00</td>\n",
       "      <td>-204.00</td>\n",
       "      <td>0.00</td>\n",
       "      <td>0.00</td>\n",
       "    </tr>\n",
       "    <tr>\n",
       "      <th>3</th>\n",
       "      <td>V50014</td>\n",
       "      <td>ChaseB REGISTER USDA</td>\n",
       "      <td>INVOICE</td>\n",
       "      <td>110-135633</td>\n",
       "      <td>USD</td>\n",
       "      <td>BFS026/000001064</td>\n",
       "      <td>02/05/2019</td>\n",
       "      <td>04/29/2019</td>\n",
       "      <td>-4,665.00</td>\n",
       "      <td>-4,665.00</td>\n",
       "      <td>-4,665.00</td>\n",
       "      <td>0.00</td>\n",
       "      <td>0.00</td>\n",
       "      <td>0.00</td>\n",
       "    </tr>\n",
       "    <tr>\n",
       "      <th>4</th>\n",
       "      <td>V50015</td>\n",
       "      <td>METALS CHEMICALS GROUP LIMITED</td>\n",
       "      <td>INVOICE</td>\n",
       "      <td>SI191433</td>\n",
       "      <td>USD</td>\n",
       "      <td>BFS026/000000908</td>\n",
       "      <td>02/12/2019</td>\n",
       "      <td>03/30/2019</td>\n",
       "      <td>-198.00</td>\n",
       "      <td>-198.00</td>\n",
       "      <td>0.00</td>\n",
       "      <td>-198.00</td>\n",
       "      <td>0.00</td>\n",
       "      <td>0.00</td>\n",
       "    </tr>\n",
       "  </tbody>\n",
       "</table>\n",
       "</div>"
      ],
      "text/plain": [
       "  company_id                    company_name     doctype   reference currency  \\\n",
       "0     V50012                   Company A LTD  CREDITNOTE         478      USD   \n",
       "1     V50012            CARGO SAFETRAVEL LTD     INVOICE  J1062628/1      USD   \n",
       "2     V50012            CARGO SAFETRAVEL LTD     INVOICE  J1062638/1      USD   \n",
       "3     V50014            ChaseB REGISTER USDA     INVOICE  110-135633      USD   \n",
       "4     V50015  METALS CHEMICALS GROUP LIMITED     INVOICE    SI191433      USD   \n",
       "\n",
       "              voucher    inv_date    due_date open_amt_tc open_amt_bc  \\\n",
       "0  BFS030OB/000000057  11/03/2014  12/30/2014      263.52      263.52   \n",
       "1    BFS026/000001137  03/30/2019  03/30/2019     -102.00     -102.00   \n",
       "2    BFS026/000001136  02/28/2019  03/15/2019     -204.00     -204.00   \n",
       "3    BFS026/000001064  02/05/2019  04/29/2019   -4,665.00   -4,665.00   \n",
       "4    BFS026/000000908  02/12/2019  03/30/2019     -198.00     -198.00   \n",
       "\n",
       "     current  months1 months2 months3  \n",
       "0       0.00     0.00    0.00  263.52  \n",
       "1       0.00  -102.00    0.00    0.00  \n",
       "2       0.00  -204.00    0.00    0.00  \n",
       "3  -4,665.00     0.00    0.00    0.00  \n",
       "4       0.00  -198.00    0.00    0.00  "
      ]
     },
     "execution_count": 9,
     "metadata": {},
     "output_type": "execute_result"
    }
   ],
   "source": [
    "# Creating the dataframe of the extracted data and viewing the top 5 records\n",
    "df = pd.DataFrame(lines)\n",
    "df.head()"
   ]
  },
  {
   "cell_type": "code",
   "execution_count": 10,
   "id": "7536a138",
   "metadata": {},
   "outputs": [
    {
     "name": "stdout",
     "output_type": "stream",
     "text": [
      "<class 'pandas.core.frame.DataFrame'>\n",
      "RangeIndex: 131 entries, 0 to 130\n",
      "Data columns (total 14 columns):\n",
      " #   Column        Non-Null Count  Dtype \n",
      "---  ------        --------------  ----- \n",
      " 0   company_id    131 non-null    object\n",
      " 1   company_name  131 non-null    object\n",
      " 2   doctype       131 non-null    object\n",
      " 3   reference     131 non-null    object\n",
      " 4   currency      131 non-null    object\n",
      " 5   voucher       131 non-null    object\n",
      " 6   inv_date      131 non-null    object\n",
      " 7   due_date      131 non-null    object\n",
      " 8   open_amt_tc   131 non-null    object\n",
      " 9   open_amt_bc   131 non-null    object\n",
      " 10  current       131 non-null    object\n",
      " 11  months1       131 non-null    object\n",
      " 12  months2       131 non-null    object\n",
      " 13  months3       131 non-null    object\n",
      "dtypes: object(14)\n",
      "memory usage: 14.5+ KB\n"
     ]
    }
   ],
   "source": [
    "#Checking the datatype\n",
    "\n",
    "df.info()"
   ]
  },
  {
   "cell_type": "markdown",
   "id": "c366d304",
   "metadata": {},
   "source": [
    "### Data Observations\n",
    "1. Inv_date and due_date format is object wherein it should be convert to datetime format\n",
    "2. Amount columns also need to change from object to float regardless of the currency in which it has recorded in pdf"
   ]
  },
  {
   "cell_type": "code",
   "execution_count": 11,
   "id": "cc63028f",
   "metadata": {},
   "outputs": [],
   "source": [
    "#Changing the date format from object to datetime\n",
    "\n",
    "df['inv_date'] = pd.to_datetime(df['inv_date'])\n",
    "df['due_date'] = pd.to_datetime(df['due_date'])"
   ]
  },
  {
   "cell_type": "code",
   "execution_count": 12,
   "id": "74592f8a",
   "metadata": {},
   "outputs": [],
   "source": [
    "#  Need to convert the amount column type to float\n",
    "for col in df.columns[-6:]:\n",
    "    df[col] = df[col].map(lambda x: float(str(x).replace(',', '')))\n",
    "\n"
   ]
  },
  {
   "cell_type": "code",
   "execution_count": 13,
   "id": "d2750294",
   "metadata": {},
   "outputs": [
    {
     "name": "stdout",
     "output_type": "stream",
     "text": [
      "<class 'pandas.core.frame.DataFrame'>\n",
      "RangeIndex: 131 entries, 0 to 130\n",
      "Data columns (total 14 columns):\n",
      " #   Column        Non-Null Count  Dtype         \n",
      "---  ------        --------------  -----         \n",
      " 0   company_id    131 non-null    object        \n",
      " 1   company_name  131 non-null    object        \n",
      " 2   doctype       131 non-null    object        \n",
      " 3   reference     131 non-null    object        \n",
      " 4   currency      131 non-null    object        \n",
      " 5   voucher       131 non-null    object        \n",
      " 6   inv_date      131 non-null    datetime64[ns]\n",
      " 7   due_date      131 non-null    datetime64[ns]\n",
      " 8   open_amt_tc   131 non-null    float64       \n",
      " 9   open_amt_bc   131 non-null    float64       \n",
      " 10  current       131 non-null    float64       \n",
      " 11  months1       131 non-null    float64       \n",
      " 12  months2       131 non-null    float64       \n",
      " 13  months3       131 non-null    float64       \n",
      "dtypes: datetime64[ns](2), float64(6), object(6)\n",
      "memory usage: 14.5+ KB\n"
     ]
    }
   ],
   "source": [
    "#Lets recheck the format for whole data\n",
    "df.info()"
   ]
  },
  {
   "cell_type": "code",
   "execution_count": 14,
   "id": "d28b562a",
   "metadata": {},
   "outputs": [
    {
     "data": {
      "text/plain": [
       "-129580.73999999999"
      ]
     },
     "execution_count": 14,
     "metadata": {},
     "output_type": "execute_result"
    }
   ],
   "source": [
    "df['open_amt_bc'].sum()"
   ]
  },
  {
   "cell_type": "code",
   "execution_count": 15,
   "id": "af866e70",
   "metadata": {},
   "outputs": [
    {
     "data": {
      "text/plain": [
       "-129580.73999999999"
      ]
     },
     "execution_count": 15,
     "metadata": {},
     "output_type": "execute_result"
    }
   ],
   "source": [
    "total_check"
   ]
  },
  {
   "cell_type": "code",
   "execution_count": 16,
   "id": "cbb007f1",
   "metadata": {},
   "outputs": [],
   "source": [
    "# Saving the formatted file in .csv format\n",
    "df.to_csv('Invoices.csv', index=False)  #csv format"
   ]
  }
 ],
 "metadata": {
  "kernelspec": {
   "display_name": "Python 3 (ipykernel)",
   "language": "python",
   "name": "python3"
  },
  "language_info": {
   "codemirror_mode": {
    "name": "ipython",
    "version": 3
   },
   "file_extension": ".py",
   "mimetype": "text/x-python",
   "name": "python",
   "nbconvert_exporter": "python",
   "pygments_lexer": "ipython3",
   "version": "3.9.12"
  }
 },
 "nbformat": 4,
 "nbformat_minor": 5
}
